{
 "cells": [
  {
   "cell_type": "markdown",
   "id": "0249f60d",
   "metadata": {},
   "source": [
    "# 🧪 AlphabetSoupCharity_Optimization.ipynb\n",
    "This notebook builds an optimized version of the neural network using the same simulated data."
   ]
  },
  {
   "cell_type": "code",
   "execution_count": null,
   "id": "b5cf3937",
   "metadata": {},
   "outputs": [],
   "source": [
    "\n",
    "!pip install tensorflow"
   ]
  },
  {
   "cell_type": "code",
   "execution_count": null,
   "id": "d472e7f6",
   "metadata": {},
   "outputs": [],
   "source": [
    "# Import libraries\n",
    "import pandas as pd\n",
    "import numpy as np\n",
    "import tensorflow as tf\n",
    "from sklearn.model_selection import train_test_split\n",
    "from sklearn.preprocessing import StandardScaler\n",
    "from tensorflow.keras.models import Sequential\n",
    "from tensorflow.keras.layers import Dense\n",
    "from tensorflow.keras.callbacks import ModelCheckpoint"
   ]
  },
  {
   "cell_type": "code",
   "execution_count": null,
   "id": "0181a3a0",
   "metadata": {},
   "outputs": [],
   "source": [
    "# Simulate the same data again for consistency\n",
    "np.random.seed(42)\n",
    "n = 1000\n",
    "df = pd.DataFrame({\n",
    "    'APPLICATION_TYPE': np.random.choice(['T3', 'T4', 'T5', 'T6'], size=n),\n",
    "    'AFFILIATION': np.random.choice(['Independent', 'CompanySponsored', 'Other'], size=n),\n",
    "    'CLASSIFICATION': np.random.choice(['C100', 'C200', 'C300', 'C400'], size=n),\n",
    "    'USE_CASE': np.random.choice(['Community', 'Education', 'Health'], size=n),\n",
    "    'ORGANIZATION': np.random.choice(['Trust', 'Co-op', 'Association'], size=n),\n",
    "    'STATUS': np.random.choice([0, 1], size=n),\n",
    "    'INCOME_AMT': np.random.choice(['Low', 'Medium', 'High'], size=n),\n",
    "    'SPECIAL_CONSIDERATIONS': np.random.choice(['N', 'Y'], size=n),\n",
    "    'ASK_AMT': np.random.randint(1000, 100000, size=n),\n",
    "    'IS_SUCCESSFUL': np.random.choice([0, 1], size=n)\n",
    "})"
   ]
  },
  {
   "cell_type": "code",
   "execution_count": null,
   "id": "8f856f4d",
   "metadata": {},
   "outputs": [],
   "source": [
    "# Encode categoricals and define features/target\n",
    "df = pd.get_dummies(df)\n",
    "y = df['IS_SUCCESSFUL']\n",
    "X = df.drop('IS_SUCCESSFUL', axis=1)"
   ]
  },
  {
   "cell_type": "code",
   "execution_count": null,
   "id": "7b52d191",
   "metadata": {},
   "outputs": [],
   "source": [
    "# Split and scale\n",
    "X_train, X_test, y_train, y_test = train_test_split(X, y, random_state=42)\n",
    "scaler = StandardScaler()\n",
    "X_train_scaled = scaler.fit_transform(X_train)\n",
    "X_test_scaled = scaler.transform(X_test)"
   ]
  },
  {
   "cell_type": "code",
   "execution_count": null,
   "id": "9f0bbabe",
   "metadata": {},
   "outputs": [],
   "source": [
    "# Build an optimized model with more layers and neurons\n",
    "model = Sequential()\n",
    "model.add(Dense(128, activation='relu', input_dim=X_train.shape[1]))\n",
    "model.add(Dense(64, activation='relu'))\n",
    "model.add(Dense(32, activation='relu'))\n",
    "model.add(Dense(1, activation='sigmoid'))\n",
    "model.summary()"
   ]
  },
  {
   "cell_type": "code",
   "execution_count": null,
   "id": "6b5f08db",
   "metadata": {},
   "outputs": [],
   "source": [
    "# Compile and train the optimized model\n",
    "model.compile(optimizer='adam', loss='binary_crossentropy', metrics=['accuracy'])\n",
    "checkpoint = ModelCheckpoint(filepath='AlphabetSoupCharity_Optimization.h5', save_weights_only=False, save_freq='epoch')\n",
    "history = model.fit(X_train_scaled, y_train, validation_data=(X_test_scaled, y_test), epochs=20, callbacks=[checkpoint])"
   ]
  },
  {
   "cell_type": "code",
   "execution_count": null,
   "id": "87b640ce",
   "metadata": {},
   "outputs": [],
   "source": [
    "# Evaluate the optimized model\n",
    "loss, accuracy = model.evaluate(X_test_scaled, y_test)\n",
    "print(f\"Optimized Accuracy: {accuracy:.4f}\")"
   ]
  }
 ],
 "metadata": {
  "language_info": {
   "name": "python"
  }
 },
 "nbformat": 4,
 "nbformat_minor": 5
}
